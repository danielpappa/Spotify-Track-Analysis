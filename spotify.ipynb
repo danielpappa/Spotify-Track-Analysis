{
 "cells": [
  {
   "cell_type": "markdown",
   "metadata": {},
   "source": [
    "# Spotify Song-Feature Scraper\n",
    "Run this script to build a database of spotify songs with their features to analyse similarities.\n",
    "Due to the imposed limit by the Spotify API this code will only produce a list of 2000 songs, though running it again the following day will add another 2000 rows etc."
   ]
  },
  {
   "cell_type": "code",
   "execution_count": 11,
   "metadata": {},
   "outputs": [],
   "source": [
    "from dotenv import load_dotenv\n",
    "from requests import post, get\n",
    "import numpy as np\n",
    "import pandas as pd\n",
    "import random as rnd\n",
    "import os\n",
    "import main"
   ]
  },
  {
   "cell_type": "code",
   "execution_count": 12,
   "metadata": {},
   "outputs": [],
   "source": [
    "current_iteration = len(pd.read_csv(\"/Users/pappalardodaniel/Desktop/VSCode/Abschlussarbeit/Data/Spotify_Track_Features.csv\"))"
   ]
  },
  {
   "cell_type": "code",
   "execution_count": 13,
   "metadata": {},
   "outputs": [],
   "source": [
    "artist_df = pd.read_csv(\"/Users/pappalardodaniel/Desktop/VSCode/Abschlussarbeit/Data/Artist_Data.csv\")\n",
    "artist_ids = artist_df.iloc[:,1].values\n",
    "artist_df = artist_df.loc[artist_df.index.repeat(10)]"
   ]
  },
  {
   "cell_type": "code",
   "execution_count": 14,
   "metadata": {},
   "outputs": [],
   "source": [
    "track_df = pd.read_csv(\"/Users/pappalardodaniel/Desktop/VSCode/Abschlussarbeit/Data/Artist_Songs.csv\")\n",
    "track_id = track_df.iloc[:,1].values"
   ]
  },
  {
   "cell_type": "markdown",
   "metadata": {},
   "source": [
    "The following will provide the features of the next 1000 songs in the track dataframe."
   ]
  },
  {
   "cell_type": "code",
   "execution_count": 15,
   "metadata": {},
   "outputs": [],
   "source": [
    "vectorized_feature_retriever = np.vectorize(main.get_track_features)\n",
    "max_iteration = min(current_iteration+1000, 10000)\n",
    "feature_array = vectorized_feature_retriever(main.token, track_id[current_iteration:max_iteration])"
   ]
  },
  {
   "cell_type": "code",
   "execution_count": 16,
   "metadata": {},
   "outputs": [],
   "source": [
    "def create_feature_df(feature_array):\n",
    "    df = pd.DataFrame.from_dict(pd.json_normalize(feature_array), orient='columns')\n",
    "    return df\n",
    "feature_df = create_feature_df(feature_array)"
   ]
  },
  {
   "cell_type": "code",
   "execution_count": 17,
   "metadata": {},
   "outputs": [],
   "source": [
    "def create_spotify_df(current_iteration, artists, tracks, features):\n",
    "\n",
    "    artist_df['Index'] = np.arange(0,len(artist_df))\n",
    "    track_df['Index'] = np.arange(0,len(track_df))\n",
    "    feature_df['Index'] = np.arange(current_iteration,len(feature_df)+current_iteration)\n",
    "\n",
    "    artists_songs = pd.merge(artist_df, track_df, on=\"Index\")\n",
    "    database = pd.merge(artists_songs[current_iteration:], feature_df, on=\"Index\")\n",
    "    database.rename(columns={\"Name\": \"Artist\", \"Spotify ID_y\": \"Artist ID\"}, inplace=True)\n",
    "    \n",
    "    return database  \n",
    "spotify_df = create_spotify_df(current_iteration, artist_df, track_df, feature_df)"
   ]
  },
  {
   "cell_type": "code",
   "execution_count": 18,
   "metadata": {},
   "outputs": [],
   "source": [
    "folder = os.listdir(\"/Users/pappalardodaniel/Desktop/VSCode/Abschlussarbeit/Data/Spotify/\")\n",
    "current_file_version = len(folder)\n",
    "if os.path.isfile(rf\"/Users/pappalardodaniel/Desktop/VSCode/Abschlussarbeit/Data/Spotify/Spotify_Database{current_file_version}.csv\"):\n",
    "    spotify_df.to_csv(rf\"/Users/pappalardodaniel/Desktop/VSCode/Abschlussarbeit/Data/Spotify/Spotify_Database{current_file_version + 1}.csv\",\n",
    "                       index=False)\n",
    "else:\n",
    "    spotify_df.to_csv(rf\"/Users/pappalardodaniel/Desktop/VSCode/Abschlussarbeit/Data/Spotify/Spotify_Database{current_file_version}.csv\",\n",
    "                       index=False)"
   ]
  },
  {
   "cell_type": "code",
   "execution_count": 19,
   "metadata": {},
   "outputs": [],
   "source": [
    "spotify_database = pd.DataFrame()\n",
    "folder = os.listdir(\"/Users/pappalardodaniel/Desktop/VSCode/Abschlussarbeit/Data/Spotify/\")\n",
    "folder.sort()\n",
    "for i in folder:\n",
    "    if i == \".DS_Store\":\n",
    "        continue\n",
    "    data = pd.read_csv(rf\"/Users/pappalardodaniel/Desktop/VSCode/Abschlussarbeit/Data/Spotify/{i}\")\n",
    "    if 'error.status' in data.columns:\n",
    "        data = data[data['error.status'] != 429]\n",
    "    spotify_database = pd.concat([spotify_database, data])\n",
    "\n",
    "spotify_database.drop_duplicates(inplace=True)\n",
    "spotify_database.to_csv(\"/Users/pappalardodaniel/Desktop/VSCode/Abschlussarbeit/Data/Spotify_Track_Features.csv\")"
   ]
  },
  {
   "cell_type": "code",
   "execution_count": 20,
   "metadata": {},
   "outputs": [
    {
     "data": {
      "text/plain": [
       "9995"
      ]
     },
     "execution_count": 20,
     "metadata": {},
     "output_type": "execute_result"
    }
   ],
   "source": [
    "len(spotify_database)"
   ]
  },
  {
   "cell_type": "markdown",
   "metadata": {},
   "source": [
    "The final dataframe will be saved to the above working directory and named Spotify_Track_Features."
   ]
  }
 ],
 "metadata": {
  "kernelspec": {
   "display_name": "base",
   "language": "python",
   "name": "python3"
  },
  "language_info": {
   "codemirror_mode": {
    "name": "ipython",
    "version": 3
   },
   "file_extension": ".py",
   "mimetype": "text/x-python",
   "name": "python",
   "nbconvert_exporter": "python",
   "pygments_lexer": "ipython3",
   "version": "3.9.12"
  }
 },
 "nbformat": 4,
 "nbformat_minor": 2
}
